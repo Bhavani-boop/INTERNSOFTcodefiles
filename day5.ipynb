{
  "nbformat": 4,
  "nbformat_minor": 0,
  "metadata": {
    "colab": {
      "provenance": []
    },
    "kernelspec": {
      "name": "python3",
      "display_name": "Python 3"
    },
    "language_info": {
      "name": "python"
    }
  },
  "cells": [
    {
      "cell_type": "code",
      "execution_count": 1,
      "metadata": {
        "id": "IC9iShGDDYeH"
      },
      "outputs": [],
      "source": [
        "import math"
      ]
    },
    {
      "cell_type": "code",
      "source": [
        "math.ceil(6.7)"
      ],
      "metadata": {
        "colab": {
          "base_uri": "https://localhost:8080/"
        },
        "id": "rSIM8mLxDlQU",
        "outputId": "aea22513-1f5e-4cb3-da58-b693d975ebe6"
      },
      "execution_count": 2,
      "outputs": [
        {
          "output_type": "execute_result",
          "data": {
            "text/plain": [
              "7"
            ]
          },
          "metadata": {},
          "execution_count": 2
        }
      ]
    },
    {
      "cell_type": "code",
      "source": [
        "math.floor(8.2)"
      ],
      "metadata": {
        "colab": {
          "base_uri": "https://localhost:8080/"
        },
        "id": "-aG_cuN7DpmV",
        "outputId": "cb982dfe-2359-44d4-9888-e95f5151c8ec"
      },
      "execution_count": 3,
      "outputs": [
        {
          "output_type": "execute_result",
          "data": {
            "text/plain": [
              "8"
            ]
          },
          "metadata": {},
          "execution_count": 3
        }
      ]
    },
    {
      "cell_type": "code",
      "source": [
        "print(dir(math))"
      ],
      "metadata": {
        "colab": {
          "base_uri": "https://localhost:8080/"
        },
        "id": "nRGCNEWwDtZC",
        "outputId": "f4bbd42d-d30b-4ac1-9901-6727cb69cb2e"
      },
      "execution_count": 4,
      "outputs": [
        {
          "output_type": "stream",
          "name": "stdout",
          "text": [
            "['__doc__', '__loader__', '__name__', '__package__', '__spec__', 'acos', 'acosh', 'asin', 'asinh', 'atan', 'atan2', 'atanh', 'ceil', 'comb', 'copysign', 'cos', 'cosh', 'degrees', 'dist', 'e', 'erf', 'erfc', 'exp', 'expm1', 'fabs', 'factorial', 'floor', 'fmod', 'frexp', 'fsum', 'gamma', 'gcd', 'hypot', 'inf', 'isclose', 'isfinite', 'isinf', 'isnan', 'isqrt', 'lcm', 'ldexp', 'lgamma', 'log', 'log10', 'log1p', 'log2', 'modf', 'nan', 'nextafter', 'perm', 'pi', 'pow', 'prod', 'radians', 'remainder', 'sin', 'sinh', 'sqrt', 'tan', 'tanh', 'tau', 'trunc', 'ulp']\n"
          ]
        }
      ]
    },
    {
      "cell_type": "code",
      "source": [
        "help(math.ceil)"
      ],
      "metadata": {
        "colab": {
          "base_uri": "https://localhost:8080/"
        },
        "id": "GHHwCoyVD4Qr",
        "outputId": "f6e32856-e650-42de-ba6e-30780d5f93ba"
      },
      "execution_count": 5,
      "outputs": [
        {
          "output_type": "stream",
          "name": "stdout",
          "text": [
            "Help on built-in function ceil in module math:\n",
            "\n",
            "ceil(x, /)\n",
            "    Return the ceiling of x as an Integral.\n",
            "    \n",
            "    This is the smallest integer >= x.\n",
            "\n"
          ]
        }
      ]
    },
    {
      "cell_type": "code",
      "source": [
        "#exceptions\n",
        "try:\n",
        "  f=open(\"bhavanifile\",\"w\")\n",
        "  f.write(\"this is code\")\n",
        "except IOError:\n",
        "  print(\"error:could not find file or read data\")\n",
        "else:\n",
        "  print(\"content written successfully\")\n",
        "  f.close()"
      ],
      "metadata": {
        "colab": {
          "base_uri": "https://localhost:8080/"
        },
        "id": "N45cv4ObEVK6",
        "outputId": "376c9b39-e47e-41fd-fdb8-84aef1c01fb4"
      },
      "execution_count": 7,
      "outputs": [
        {
          "output_type": "stream",
          "name": "stdout",
          "text": [
            "content written successfully\n"
          ]
        }
      ]
    },
    {
      "cell_type": "code",
      "source": [
        "try:\n",
        "  f=open(\"bhavanifile\",\"r\")\n",
        "  f.write(\"this is code\")\n",
        "except IOError:\n",
        "  print(\"error:could not find file or read data\")\n",
        "else:\n",
        "  print(\"content written successfully\")\n",
        "  f.close()"
      ],
      "metadata": {
        "colab": {
          "base_uri": "https://localhost:8080/"
        },
        "id": "CqmbctyBFqzG",
        "outputId": "0bcabcb2-4d8a-4a9b-ee34-69e38e1ff3a9"
      },
      "execution_count": 8,
      "outputs": [
        {
          "output_type": "stream",
          "name": "stdout",
          "text": [
            "error:could not find file or read data\n"
          ]
        }
      ]
    },
    {
      "cell_type": "code",
      "source": [
        "try:\n",
        "   f=open(\"bhavanifile\",\"w\")\n",
        "   f.write(\"this is code\")\n",
        "finally:\n",
        "  print(\"executes regardless of exceptions\")\n"
      ],
      "metadata": {
        "colab": {
          "base_uri": "https://localhost:8080/"
        },
        "id": "5sPlifaWGDQi",
        "outputId": "327f930e-5fea-45f3-f6cf-9e9d38377ca0"
      },
      "execution_count": 10,
      "outputs": [
        {
          "output_type": "stream",
          "name": "stdout",
          "text": [
            "executes regardless of exceptions\n"
          ]
        }
      ]
    },
    {
      "cell_type": "code",
      "source": [
        "def askint():\n",
        "  try:\n",
        "    v=int(input(\"please enter the integer:\"))\n",
        "  except:\n",
        "      print(\"looks like class is gng to get over\")\n",
        "  finally:\n",
        "      print(\"done\")\n",
        "  print(v)"
      ],
      "metadata": {
        "id": "PeYaElxVG7be"
      },
      "execution_count": 12,
      "outputs": []
    },
    {
      "cell_type": "code",
      "source": [
        "askint()"
      ],
      "metadata": {
        "colab": {
          "base_uri": "https://localhost:8080/",
          "height": 304
        },
        "id": "i0YbV7I8Hp2I",
        "outputId": "596fab3e-dfb0-4e85-e323-75a950a0fea2"
      },
      "execution_count": 13,
      "outputs": [
        {
          "output_type": "stream",
          "name": "stdout",
          "text": [
            "please enter the integer:bhavani\n",
            "looks like class is gng to get over\n",
            "done\n"
          ]
        },
        {
          "output_type": "error",
          "ename": "UnboundLocalError",
          "evalue": "ignored",
          "traceback": [
            "\u001b[0;31m---------------------------------------------------------------------------\u001b[0m",
            "\u001b[0;31mUnboundLocalError\u001b[0m                         Traceback (most recent call last)",
            "\u001b[0;32m<ipython-input-13-cc291aa76c10>\u001b[0m in \u001b[0;36m<cell line: 1>\u001b[0;34m()\u001b[0m\n\u001b[0;32m----> 1\u001b[0;31m \u001b[0maskint\u001b[0m\u001b[0;34m(\u001b[0m\u001b[0;34m)\u001b[0m\u001b[0;34m\u001b[0m\u001b[0;34m\u001b[0m\u001b[0m\n\u001b[0m",
            "\u001b[0;32m<ipython-input-12-e3896657ee33>\u001b[0m in \u001b[0;36maskint\u001b[0;34m()\u001b[0m\n\u001b[1;32m      6\u001b[0m   \u001b[0;32mfinally\u001b[0m\u001b[0;34m:\u001b[0m\u001b[0;34m\u001b[0m\u001b[0;34m\u001b[0m\u001b[0m\n\u001b[1;32m      7\u001b[0m       \u001b[0mprint\u001b[0m\u001b[0;34m(\u001b[0m\u001b[0;34m\"done\"\u001b[0m\u001b[0;34m)\u001b[0m\u001b[0;34m\u001b[0m\u001b[0;34m\u001b[0m\u001b[0m\n\u001b[0;32m----> 8\u001b[0;31m   \u001b[0mprint\u001b[0m\u001b[0;34m(\u001b[0m\u001b[0mv\u001b[0m\u001b[0;34m)\u001b[0m\u001b[0;34m\u001b[0m\u001b[0;34m\u001b[0m\u001b[0m\n\u001b[0m",
            "\u001b[0;31mUnboundLocalError\u001b[0m: local variable 'v' referenced before assignment"
          ]
        }
      ]
    },
    {
      "cell_type": "code",
      "source": [
        "askint()"
      ],
      "metadata": {
        "colab": {
          "base_uri": "https://localhost:8080/"
        },
        "id": "SSGg7AMSHxLd",
        "outputId": "d1f8bad7-c4f3-47b8-8e19-264d97addf94"
      },
      "execution_count": 14,
      "outputs": [
        {
          "output_type": "stream",
          "name": "stdout",
          "text": [
            "please enter the integer:1234\n",
            "done\n",
            "1234\n"
          ]
        }
      ]
    },
    {
      "cell_type": "code",
      "source": [
        "def askint():\n",
        "  try:\n",
        "    v=int(input(\"please enter the integer:\"))\n",
        "  except:\n",
        "      print(\"looks like class is gng to get over\")\n",
        "      v=int(input(\"tryagain-please enter an integer:\"))\n",
        "  finally:\n",
        "      print(\"done\")\n",
        "  print(v)"
      ],
      "metadata": {
        "id": "5aLvcT-pH_En"
      },
      "execution_count": 16,
      "outputs": []
    },
    {
      "cell_type": "code",
      "source": [
        "askint()\n"
      ],
      "metadata": {
        "colab": {
          "base_uri": "https://localhost:8080/"
        },
        "id": "dlOB3yb8ISg_",
        "outputId": "b47b2922-0ceb-47fd-b22c-af92bce19b61"
      },
      "execution_count": 17,
      "outputs": [
        {
          "output_type": "stream",
          "name": "stdout",
          "text": [
            "please enter the integer:bhavani\n",
            "looks like class is gng to get over\n",
            "tryagain-please enter an integer:1234\n",
            "done\n",
            "1234\n"
          ]
        }
      ]
    },
    {
      "cell_type": "code",
      "source": [
        "def askint():\n",
        "  while True:\n",
        "        try:\n",
        "           v=int(input(\"please enter the integer:\"))\n",
        "        except:\n",
        "          print(\"looks like class is gng to get over\")\n",
        "          continue\n",
        "        else:\n",
        "          print(\"finally done\")\n",
        "          break\n",
        "        finally:\n",
        "          print(\"done\")\n",
        "        print(v)"
      ],
      "metadata": {
        "id": "BtW_ciigIY4K"
      },
      "execution_count": 18,
      "outputs": []
    },
    {
      "cell_type": "code",
      "source": [
        "askint()"
      ],
      "metadata": {
        "colab": {
          "base_uri": "https://localhost:8080/"
        },
        "id": "v0K4ZdWzJGvG",
        "outputId": "ce11bb56-cc5d-4520-8edc-84da980d748f"
      },
      "execution_count": 19,
      "outputs": [
        {
          "output_type": "stream",
          "name": "stdout",
          "text": [
            "please enter the integer:bhavani\n",
            "looks like class is gng to get over\n",
            "done\n",
            "please enter the integer:bhavani\n",
            "looks like class is gng to get over\n",
            "done\n",
            "please enter the integer:1234\n",
            "finally done\n",
            "done\n"
          ]
        }
      ]
    },
    {
      "cell_type": "code",
      "source": [
        "import sqlite3\n",
        "db=sqlite3.connect(\"my_db.db\")\n",
        "db.execute(\"drop table if exists g1\")\n",
        "db.execute(\"create table g1(id int, name text, score int)\")\n",
        "db.execute(\"insert into g1(id, name, score) values(11, 'abc', 101)\")\n",
        "db.execute(\"insert into g1(id, name, score) values(12, 'def', 102)\")\n",
        "db.execute(\"insert into g1(id, name, score) values(13, 'ghi', 103)\")\n",
        "db.execute(\"insert into g1(id, name, score) values(14, 'jkl', 104)\")\n",
        "db.execute(\"insert into g1(id, name, score) values(15, 'mno', 105)\")"
      ],
      "metadata": {
        "colab": {
          "base_uri": "https://localhost:8080/"
        },
        "id": "-pV7kL06JLwn",
        "outputId": "18a4c230-ac2a-4b36-e64f-d10c211c3532"
      },
      "execution_count": 25,
      "outputs": [
        {
          "output_type": "execute_result",
          "data": {
            "text/plain": [
              "<sqlite3.Cursor at 0x7fc580e391c0>"
            ]
          },
          "metadata": {},
          "execution_count": 25
        }
      ]
    },
    {
      "cell_type": "code",
      "source": [
        "db.commit()"
      ],
      "metadata": {
        "id": "b2ZX_kYwMnsR"
      },
      "execution_count": 26,
      "outputs": []
    },
    {
      "cell_type": "code",
      "source": [
        "result=db.execute(\"select * from g1 order by id\")\n",
        "for row in result:\n",
        "  print(row)\n",
        "print(\"-\"*60)"
      ],
      "metadata": {
        "colab": {
          "base_uri": "https://localhost:8080/"
        },
        "id": "awWW9Q01MrVS",
        "outputId": "f5ae6997-bbc7-42f9-c665-3ccad9176acf"
      },
      "execution_count": 27,
      "outputs": [
        {
          "output_type": "stream",
          "name": "stdout",
          "text": [
            "(11, 'abc', 101)\n",
            "(12, 'def', 102)\n",
            "(13, 'ghi', 103)\n",
            "(14, 'jkl', 104)\n",
            "(15, 'mno', 105)\n",
            "------------------------------------------------------------\n"
          ]
        }
      ]
    },
    {
      "cell_type": "code",
      "source": [
        "result=db.execute(\"select * from g1 where name='abc' \")\n",
        "for row in result:\n",
        "  print(row)\n",
        "print(\"-\"*60)"
      ],
      "metadata": {
        "colab": {
          "base_uri": "https://localhost:8080/"
        },
        "id": "Y97XLD1CNceq",
        "outputId": "d15726fd-6652-4676-ead3-6e0c8a44719c"
      },
      "execution_count": 28,
      "outputs": [
        {
          "output_type": "stream",
          "name": "stdout",
          "text": [
            "(11, 'abc', 101)\n",
            "------------------------------------------------------------\n"
          ]
        }
      ]
    },
    {
      "cell_type": "code",
      "source": [
        "result=db.execute(\"select * from g1 where score>=102\")\n",
        "for row in result:\n",
        "  print(row)\n",
        "print(\"-\"*60)"
      ],
      "metadata": {
        "colab": {
          "base_uri": "https://localhost:8080/"
        },
        "id": "r0sW3_lQNpER",
        "outputId": "0408f786-51fc-4905-be6e-4b9155d45ae2"
      },
      "execution_count": 31,
      "outputs": [
        {
          "output_type": "stream",
          "name": "stdout",
          "text": [
            "(12, 'def', 102)\n",
            "(13, 'ghi', 103)\n",
            "(14, 'jkl', 104)\n",
            "(15, 'mno', 105)\n",
            "------------------------------------------------------------\n"
          ]
        }
      ]
    },
    {
      "cell_type": "code",
      "source": [
        "result=db.execute(\"select name, score from g1 order by score \")\n",
        "for row in result:\n",
        "  print(row)\n",
        "print(\"-\"*60)"
      ],
      "metadata": {
        "colab": {
          "base_uri": "https://localhost:8080/"
        },
        "id": "PH85_KhvN51z",
        "outputId": "26eba9e0-19da-4599-8af8-faf5b9f802b1"
      },
      "execution_count": 35,
      "outputs": [
        {
          "output_type": "stream",
          "name": "stdout",
          "text": [
            "('abc', 101)\n",
            "('def', 102)\n",
            "('ghi', 103)\n",
            "('jkl', 104)\n",
            "('mno', 105)\n",
            "------------------------------------------------------------\n"
          ]
        }
      ]
    }
  ]
}