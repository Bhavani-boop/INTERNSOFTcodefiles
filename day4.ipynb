{
  "nbformat": 4,
  "nbformat_minor": 0,
  "metadata": {
    "colab": {
      "provenance": []
    },
    "kernelspec": {
      "name": "python3",
      "display_name": "Python 3"
    },
    "language_info": {
      "name": "python"
    }
  },
  "cells": [
    {
      "cell_type": "code",
      "execution_count": 9,
      "metadata": {
        "colab": {
          "base_uri": "https://localhost:8080/"
        },
        "id": "A7heJSmCmtnq",
        "outputId": "2e41a598-618a-46e8-ffb6-219573e60def"
      },
      "outputs": [
        {
          "output_type": "stream",
          "name": "stdout",
          "text": [
            "<__main__.Person object at 0x7fd78f03b6a0>\n",
            "abC def was born in 1234\n"
          ]
        }
      ],
      "source": [
        "#class\n",
        "class Person:\n",
        "  pass\n",
        "john = Person()\n",
        "john.name=\"abC\"\n",
        "john.surname=\"def\"\n",
        "john.dob=1234\n",
        "\n",
        "print(john)\n",
        "print(\"%s %s was born in %d\" %(john.name, john.surname, john.dob))"
      ]
    },
    {
      "cell_type": "code",
      "source": [
        "#init\n",
        "class Person:\n",
        "  def __init__(self,name,surname,dob):\n",
        "    self.name=name\n",
        "    self.surname=surname\n",
        "    self.dob=dob\n",
        ""
      ],
      "metadata": {
        "id": "PxYelfFcpwK4"
      },
      "execution_count": 10,
      "outputs": []
    },
    {
      "cell_type": "code",
      "source": [
        "abc=Person(\"abc\", \"def\",1234)\n",
        "print(abc)\n",
        "print(\"%s %s was born in %d\" %(abc.name, abc.surname, abc.dob))"
      ],
      "metadata": {
        "colab": {
          "base_uri": "https://localhost:8080/"
        },
        "id": "qtTJPJokqICP",
        "outputId": "bcb8d250-4294-4ce0-d206-6c624d506140"
      },
      "execution_count": 11,
      "outputs": [
        {
          "output_type": "stream",
          "name": "stdout",
          "text": [
            "<__main__.Person object at 0x7fd78eeb94b0>\n",
            "abc def was born in 1234\n"
          ]
        }
      ]
    },
    {
      "cell_type": "code",
      "source": [
        "#method\n",
        "class Person:\n",
        "  def __init__(self,name,surname,dob):\n",
        "    self.name=name\n",
        "    self.surname=surname\n",
        "    self.dob=dob\n",
        "  def age(self,current_year):\n",
        "      return current_year-self.dob\n",
        "  def __str__(self):\n",
        "        return \"%s %s was born in %d\" %(self.name, self.surname, self.dob)\n",
        "abc=Person(\"abc\", \"def\",1234)\n",
        "print(abc)\n",
        "print(abc.age(5678))\n"
      ],
      "metadata": {
        "colab": {
          "base_uri": "https://localhost:8080/"
        },
        "id": "1KTGBG0-qgba",
        "outputId": "8417c7d5-3ec0-49d4-9d0c-e8a32f61d050"
      },
      "execution_count": 12,
      "outputs": [
        {
          "output_type": "stream",
          "name": "stdout",
          "text": [
            "abc def was born in 1234\n",
            "4444\n"
          ]
        }
      ]
    },
    {
      "cell_type": "code",
      "source": [
        "#inheritance\n",
        "class Student(Person):\n",
        "  def __init__(self, student_id,*args, **kwargs):\n",
        "    super(Student,self).__init__(*args, **kwargs)\n",
        "    self.student_id=student_id\n",
        "\n",
        "mno=Student(0000, \"mno\", \"pqr\", 7890)\n",
        "print(mno)\n",
        "print(type(mno))\n",
        "print(isinstance(mno,Person))\n",
        "print(isinstance(mno,object))\n",
        "\n"
      ],
      "metadata": {
        "colab": {
          "base_uri": "https://localhost:8080/"
        },
        "id": "0pLwIC0osO3L",
        "outputId": "27ca0b8d-1332-4259-f3c2-bd9822fc707d"
      },
      "execution_count": 13,
      "outputs": [
        {
          "output_type": "stream",
          "name": "stdout",
          "text": [
            "mno pqr was born in 7890\n",
            "<class '__main__.Student'>\n",
            "True\n",
            "True\n"
          ]
        }
      ]
    },
    {
      "cell_type": "code",
      "source": [
        "#overriding\n",
        "class Student(Person):\n",
        "  def __init__(self, student_id,*args, **kwargs):\n",
        "    super(Student,self).__init__(*args, **kwargs)\n",
        "    self.student_id=student_id\n",
        "  def __str__(self):\n",
        "    return super(Student, self).__str__()+\"and has id : %d \" %self.student_id\n",
        "mno=Student(0000, \"mno\", \"pqr\", 7890)\n",
        "print(mno)\n",
        "\n",
        "\n"
      ],
      "metadata": {
        "colab": {
          "base_uri": "https://localhost:8080/"
        },
        "id": "WC2PQ9owtpX4",
        "outputId": "408a29a7-706c-421c-899e-2a8bedd7c7e7"
      },
      "execution_count": 14,
      "outputs": [
        {
          "output_type": "stream",
          "name": "stdout",
          "text": [
            "mno pqr was born in 7890and has id : 0 \n"
          ]
        }
      ]
    },
    {
      "cell_type": "code",
      "source": [
        "#polymorphism and duckTyping(dynamic typing)\n",
        "def summer(a,b):\n",
        "  return a+b\n",
        "\n",
        "print(summer(1,1))\n",
        "print(summer([1,2,3,4],[5,6,7,8]))\n",
        "print(summer([\"a\",\"b\",\"c\",\"d\"],[\"e\",\"f\",\"g\",\"h\"]))\n",
        "print(summer(\"abcd\",\"efgh\"))"
      ],
      "metadata": {
        "colab": {
          "base_uri": "https://localhost:8080/"
        },
        "id": "u6FCUKA6uVAq",
        "outputId": "ef4a0121-26ac-415d-a3b8-121800b46921"
      },
      "execution_count": 15,
      "outputs": [
        {
          "output_type": "stream",
          "name": "stdout",
          "text": [
            "2\n",
            "[1, 2, 3, 4, 5, 6, 7, 8]\n",
            "['a', 'b', 'c', 'd', 'e', 'f', 'g', 'h']\n",
            "abcdefgh\n"
          ]
        }
      ]
    },
    {
      "cell_type": "code",
      "source": [
        "%%writefile bhavani.txt\n",
        "hello, this is what i amm dng"
      ],
      "metadata": {
        "colab": {
          "base_uri": "https://localhost:8080/"
        },
        "id": "bZxVQbn3wg10",
        "outputId": "2d012227-8048-4060-ddc2-da4605e2b8d4"
      },
      "execution_count": 16,
      "outputs": [
        {
          "output_type": "stream",
          "name": "stdout",
          "text": [
            "Writing bhavani.txt\n"
          ]
        }
      ]
    },
    {
      "cell_type": "code",
      "source": [
        "#reading file\n",
        "f=open(\"bhavani.txt\")"
      ],
      "metadata": {
        "id": "HYEOyAK2wpbi"
      },
      "execution_count": 17,
      "outputs": []
    },
    {
      "cell_type": "code",
      "source": [
        "f.read()"
      ],
      "metadata": {
        "colab": {
          "base_uri": "https://localhost:8080/",
          "height": 36
        },
        "id": "7vfaav9mw9ta",
        "outputId": "0e4c3264-f6db-4c4c-f6c7-084f44e602b5"
      },
      "execution_count": 18,
      "outputs": [
        {
          "output_type": "execute_result",
          "data": {
            "text/plain": [
              "'hello, this is what i amm dng\\n'"
            ],
            "application/vnd.google.colaboratory.intrinsic+json": {
              "type": "string"
            }
          },
          "metadata": {},
          "execution_count": 18
        }
      ]
    },
    {
      "cell_type": "code",
      "source": [
        "f.read()"
      ],
      "metadata": {
        "colab": {
          "base_uri": "https://localhost:8080/",
          "height": 36
        },
        "id": "D9OMjIftxNTX",
        "outputId": "8cd7e87f-1a9f-4e8b-eb7c-76a74b813219"
      },
      "execution_count": 19,
      "outputs": [
        {
          "output_type": "execute_result",
          "data": {
            "text/plain": [
              "''"
            ],
            "application/vnd.google.colaboratory.intrinsic+json": {
              "type": "string"
            }
          },
          "metadata": {},
          "execution_count": 19
        }
      ]
    },
    {
      "cell_type": "code",
      "source": [
        "f.seek(0)"
      ],
      "metadata": {
        "colab": {
          "base_uri": "https://localhost:8080/"
        },
        "id": "OBE5iXktxhjG",
        "outputId": "81c965c9-be92-4a66-cbcf-70dd75831999"
      },
      "execution_count": 20,
      "outputs": [
        {
          "output_type": "execute_result",
          "data": {
            "text/plain": [
              "0"
            ]
          },
          "metadata": {},
          "execution_count": 20
        }
      ]
    },
    {
      "cell_type": "code",
      "source": [
        "f.read()"
      ],
      "metadata": {
        "colab": {
          "base_uri": "https://localhost:8080/",
          "height": 36
        },
        "id": "yZ6f4q5OxkPm",
        "outputId": "68233c7d-9ee8-47a5-a618-17be4015a19c"
      },
      "execution_count": 21,
      "outputs": [
        {
          "output_type": "execute_result",
          "data": {
            "text/plain": [
              "'hello, this is what i amm dng\\n'"
            ],
            "application/vnd.google.colaboratory.intrinsic+json": {
              "type": "string"
            }
          },
          "metadata": {},
          "execution_count": 21
        }
      ]
    },
    {
      "cell_type": "code",
      "source": [
        "f.seek(0)"
      ],
      "metadata": {
        "colab": {
          "base_uri": "https://localhost:8080/"
        },
        "id": "ct2dJ4oRxwlu",
        "outputId": "2dc7a691-0c49-4ea6-85c4-d4a1ddfbf762"
      },
      "execution_count": 22,
      "outputs": [
        {
          "output_type": "execute_result",
          "data": {
            "text/plain": [
              "0"
            ]
          },
          "metadata": {},
          "execution_count": 22
        }
      ]
    },
    {
      "cell_type": "code",
      "source": [
        "f.readlines()"
      ],
      "metadata": {
        "colab": {
          "base_uri": "https://localhost:8080/"
        },
        "id": "tj_4SaiWxzdB",
        "outputId": "c9e292cd-f9fc-40a5-e464-6a2fd963da58"
      },
      "execution_count": 23,
      "outputs": [
        {
          "output_type": "execute_result",
          "data": {
            "text/plain": [
              "['hello, this is what i amm dng\\n']"
            ]
          },
          "metadata": {},
          "execution_count": 23
        }
      ]
    },
    {
      "cell_type": "code",
      "source": [
        "#writing to the file\n",
        "f=open(\"bhavani.txt\",\"w\")"
      ],
      "metadata": {
        "id": "yEl9FGz9yQVI"
      },
      "execution_count": 24,
      "outputs": []
    },
    {
      "cell_type": "code",
      "source": [
        "f.write(\"this is new line\")"
      ],
      "metadata": {
        "colab": {
          "base_uri": "https://localhost:8080/"
        },
        "id": "yC37pnt8yp3f",
        "outputId": "88075a7b-5ba7-4f81-c878-edbb43da1a0a"
      },
      "execution_count": 25,
      "outputs": [
        {
          "output_type": "execute_result",
          "data": {
            "text/plain": [
              "16"
            ]
          },
          "metadata": {},
          "execution_count": 25
        }
      ]
    },
    {
      "cell_type": "code",
      "source": [
        "#iterating through a file\n",
        "%%writefile bhavani.txt\n",
        "abc\n",
        "def"
      ],
      "metadata": {
        "colab": {
          "base_uri": "https://localhost:8080/"
        },
        "id": "dP3oi0KoyuQs",
        "outputId": "870dd32a-57de-4ea4-da37-cc7032faa2a1"
      },
      "execution_count": 26,
      "outputs": [
        {
          "output_type": "stream",
          "name": "stdout",
          "text": [
            "Overwriting bhavani.txt\n"
          ]
        }
      ]
    },
    {
      "cell_type": "code",
      "source": [
        "for line in open(\"bhavani.txt\"):\n",
        "  print(line)"
      ],
      "metadata": {
        "colab": {
          "base_uri": "https://localhost:8080/"
        },
        "id": "OhNmrGXhzKSr",
        "outputId": "a08bb79b-f695-4215-e5e3-1dcd697307f8"
      },
      "execution_count": 27,
      "outputs": [
        {
          "output_type": "stream",
          "name": "stdout",
          "text": [
            "abc\n",
            "\n",
            "def\n",
            "\n"
          ]
        }
      ]
    },
    {
      "cell_type": "code",
      "source": [
        "#string io\n",
        "from io import StringIO"
      ],
      "metadata": {
        "id": "B3u7_SHgzY5a"
      },
      "execution_count": 28,
      "outputs": []
    },
    {
      "cell_type": "code",
      "source": [
        "m=\"this is end of the class.\""
      ],
      "metadata": {
        "id": "w5VckErOzzKM"
      },
      "execution_count": 40,
      "outputs": []
    },
    {
      "cell_type": "code",
      "source": [
        "f=StringIO(m)"
      ],
      "metadata": {
        "id": "BjQQeidAz4ZF"
      },
      "execution_count": 41,
      "outputs": []
    },
    {
      "cell_type": "code",
      "source": [
        "f.read()"
      ],
      "metadata": {
        "colab": {
          "base_uri": "https://localhost:8080/",
          "height": 36
        },
        "id": "VGjgEHlxz9UA",
        "outputId": "b5d75872-e4db-4fb4-8a19-06e27b71ca16"
      },
      "execution_count": 42,
      "outputs": [
        {
          "output_type": "execute_result",
          "data": {
            "text/plain": [
              "'this is end of the class.'"
            ],
            "application/vnd.google.colaboratory.intrinsic+json": {
              "type": "string"
            }
          },
          "metadata": {},
          "execution_count": 42
        }
      ]
    },
    {
      "cell_type": "code",
      "source": [
        "f.write(\" finally end of the class\")"
      ],
      "metadata": {
        "colab": {
          "base_uri": "https://localhost:8080/"
        },
        "id": "N8gPCgRD0DXy",
        "outputId": "868f0a02-e86e-4ad5-a497-c54fb5201955"
      },
      "execution_count": 43,
      "outputs": [
        {
          "output_type": "execute_result",
          "data": {
            "text/plain": [
              "25"
            ]
          },
          "metadata": {},
          "execution_count": 43
        }
      ]
    },
    {
      "cell_type": "code",
      "source": [
        "f.seek(0)"
      ],
      "metadata": {
        "colab": {
          "base_uri": "https://localhost:8080/"
        },
        "id": "FxgSd9AG0HMn",
        "outputId": "4044d12a-a885-4c86-9381-29bc8c52674e"
      },
      "execution_count": 44,
      "outputs": [
        {
          "output_type": "execute_result",
          "data": {
            "text/plain": [
              "0"
            ]
          },
          "metadata": {},
          "execution_count": 44
        }
      ]
    },
    {
      "cell_type": "code",
      "source": [
        "f.read()"
      ],
      "metadata": {
        "colab": {
          "base_uri": "https://localhost:8080/",
          "height": 36
        },
        "id": "FloJK4Cv0M4J",
        "outputId": "14317535-8cf8-440d-ebe2-2025c4610ff0"
      },
      "execution_count": 45,
      "outputs": [
        {
          "output_type": "execute_result",
          "data": {
            "text/plain": [
              "'this is end of the class. finally end of the class'"
            ],
            "application/vnd.google.colaboratory.intrinsic+json": {
              "type": "string"
            }
          },
          "metadata": {},
          "execution_count": 45
        }
      ]
    }
  ]
}